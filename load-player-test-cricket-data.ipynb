{
  "cells": [
    {
      "metadata": {},
      "cell_type": "markdown",
      "source": "# Understand the data\nhttps://thecrickettest-peterbarraud.notebooks.azure.com/j/notebooks/understanding-batters-data.ipynb"
    },
    {
      "metadata": {},
      "cell_type": "markdown",
      "source": "# base data\nget the base data from the **ESPNCricinfo** `CSV`\nJust some simple *heading renaming*\nAnd *dtype settings*\nAlso, we're replacing all `-` with `NaN`"
    },
    {
      "metadata": {
        "trusted": true
      },
      "cell_type": "code",
      "source": "import pandas as pd\nimport numpy as np\ncol_names = ['playername','runswithasterisk','runs','mins','batted','notout','ballsfaced','fours','sixes', 'strikerate','innings',\n             'opposition','ground','date','country','fifties','hundreds', 'runbuckets','numoversbowled','oversbowled','maidens','runsconceded',\n             'wickets','fourwickets', 'fivewickets','tenwickets','wicketbuckets','economyrate']\n\nuse_cols = ['playername', 'runs','mins', 'notout','ballsfaced','fours','sixes', 'innings','opposition','ground','date','country',\n           'numoversbowled', 'maidens','runsconceded', 'wickets']\n\ncol_types = {'playername': np.object, 'runs': np.float16, 'mins': np.float16, 'notout': np.float16, 'ballsfaced': np.float16, 'fours': np.float16,\n             'sixes': np.float16, 'innings': np.float16, 'opposition': np.object, 'ground': np.object, 'date': np.object, 'country': np.object,\n            'numoversbowled': np.object,'maidens': np.float16,'runsconceded': np.float16, 'wickets': np.float16}\n\n\ndf = pd.read_csv('./data/Test Player Innings Stats - All Teams.csv', names=col_names, skiprows=1, usecols=use_cols, dtype=col_types, na_values='-')\n",
      "execution_count": 117,
      "outputs": []
    },
    {
      "metadata": {},
      "cell_type": "markdown",
      "source": "# date column"
    },
    {
      "metadata": {
        "trusted": true
      },
      "cell_type": "code",
      "source": "df['date'] = pd.to_datetime(df.date)",
      "execution_count": 118,
      "outputs": []
    },
    {
      "metadata": {},
      "cell_type": "markdown",
      "source": "# opposition column\nthe file contains opposition as `v <Country name>`. A little odd, so let's remove the `v ` from the front\n"
    },
    {
      "metadata": {
        "trusted": true
      },
      "cell_type": "code",
      "source": "df['opposition'] = df.opposition.str.lstrip(\"v \")",
      "execution_count": 119,
      "outputs": []
    },
    {
      "metadata": {},
      "cell_type": "markdown",
      "source": "# Home game\nNice to have the info if the row was a home or away game and we're going to use a bool to say `homegame` or `not`\nSimple rule if\ndf.country == ground_country then homegame = 1\nelse homegame = 0"
    },
    {
      "metadata": {
        "trusted": true
      },
      "cell_type": "code",
      "source": "# a dict ground countries\nground_countries = {'The Oval': 'England', 'Auckland': 'New Zealand', \"Lord's\": 'England', 'Kingston': 'West Indies', 'Leeds': 'England', 'Birmingham': 'England',\n                    'Sydney': 'Australia', 'Nottingham': 'England', 'Abu Dhabi': 'Pakistan', 'Cape Town': 'South Africa', 'Manchester': 'England',\n                    'Melbourne': 'Australia', 'Durban': 'South Africa', 'Brisbane': 'Australia', 'Christchurch': 'New Zealand', 'Adelaide': 'Australia',\n                    'Chennai': 'India', 'Port of Spain': 'West Indies', 'Karachi': 'Pakistan', 'Cardiff': 'England', 'Johannesburg': 'South Africa',\n                    'Multan': 'Pakistan', 'Kolkata': 'India', 'Mumbai': 'India', \"St George's\": 'West Indies', 'Delhi': 'India', 'Napier': 'New Zealand',\n                    'Ahmedabad': 'India', 'Mumbai (BS)': 'India', \"St John's\": 'West Indies', 'Lahore': 'Pakistan', 'Chattogram': 'Bangladesh', 'Kanpur': 'India',\n                    'Georgetown': 'West Indies', 'Southampton': 'England', 'Dhaka': 'Bangladesh', 'Wellington': 'New Zealand', 'Chester-le-Street': 'England',\n                    'Perth': 'Australia', 'Hyderabad (Sind)': 'Pakistan', 'Bridgetown': 'West Indies', 'Faisalabad': 'Pakistan', 'Colombo (PSS)': 'Sri Lanka',\n                    'Galle': 'Sri Lanka', 'Mohali': 'India', 'Nagpur': 'India', 'North Sound': 'West Indies', 'Centurion': 'South Africa',\n                    'Port Elizabeth': 'South Africa', 'Rajkot': 'Pakistan', 'Colombo (SSC)': 'Sri Lanka', 'Pallekele': 'Sri Lanka', 'Gros Islet': 'West Indies',\n                    'Dunedin': 'New Zealand', 'Bulawayo': 'Zimbabwe', 'Kandy': 'Sri Lanka', 'Harare': 'Sri Lanka', 'Dubai (DSC)': 'Pakistan', 'Bengaluru': 'India',\n                    'Sharjah': 'Pakistan', 'Visakhapatnam': 'India', 'Hamilton': 'New Zealand', 'Sheffield': 'England', 'Peshawar': 'Pakistan', 'Hobart': 'Australia',\n                    'Canberra': 'Australia', 'Ranchi': 'India', 'Cairns': 'Australia', 'Rawalpindi': 'Pakistan', 'Fatullah': 'Bangladesh', 'Roseau': 'West Indies',\n                    'Dharamsala': 'India', 'Darwin': 'Australia', 'Pune': 'India', 'Moratuwa': 'Sri Lanka', 'Colombo (RPS)': 'Sri Lanka',\n                    'Hyderabad (Deccan)': 'India', 'East London': 'South Africa', 'Potchefstroom': 'South Africa', 'Bloemfontein': 'South Africa',\n                    'Basseterre': 'West Indies', 'Sheikhupura': 'Pakistan', 'Khulna': 'Bangladesh', 'Kingstown': 'West Indies', 'Providence': 'West Indies',\n                    'Colombo (CCC)': 'Sri Lanka', 'Indore': 'India', 'Cuttack': 'India', 'Jalandhar': 'India', 'Lucknow': 'India', 'Jaipur': 'India',\n                    'Sialkot': 'Pakistan', 'Chandigarh': 'India', 'Bahawalpur': 'Pakistan', 'Dublin (Malahide)': 'Ireland', 'Gujranwala': 'Pakistan',\n                    'Bogra': 'Bangladesh', 'Sylhet': 'Bangladesh', 'Dehradun': 'India'}\n        \ndf['homegame'] = df.apply(lambda x: ground_countries[x.ground] == x.country, axis=1) ",
      "execution_count": 120,
      "outputs": []
    },
    {
      "metadata": {},
      "cell_type": "markdown",
      "source": "# Batter data"
    },
    {
      "metadata": {},
      "cell_type": "markdown",
      "source": "## only batter rows"
    },
    {
      "metadata": {
        "trusted": true
      },
      "cell_type": "code",
      "source": "# remove all batter rows for runs = NaN\ndfb = df[df.runs.isna() == False]",
      "execution_count": 121,
      "outputs": []
    },
    {
      "metadata": {},
      "cell_type": "markdown",
      "source": "## only batter coluimns"
    },
    {
      "metadata": {
        "trusted": true
      },
      "cell_type": "code",
      "source": "dfb = dfb[['playername', 'runs', 'mins', 'notout', 'ballsfaced', 'fours', 'sixes', 'innings', 'opposition', 'date', 'country', 'homegame']]",
      "execution_count": 122,
      "outputs": []
    },
    {
      "metadata": {
        "trusted": true
      },
      "cell_type": "code",
      "source": "## Clean up batter col dtypes",
      "execution_count": 123,
      "outputs": []
    },
    {
      "metadata": {
        "trusted": true
      },
      "cell_type": "code",
      "source": "# since we have no NaN values for notout, we bool_\ndfb.notout = dfb.notout.astype(np.bool_)\n# since we have no NaN values for runs and innings, we can use int (instead of float)\ndfb.runs = dfb.runs.astype(np.int16)\ndfb.innings = dfb.innings.astype(np.int8)",
      "execution_count": 124,
      "outputs": []
    },
    {
      "metadata": {
        "trusted": true
      },
      "cell_type": "markdown",
      "source": "# Save batter pickle"
    },
    {
      "metadata": {
        "trusted": true
      },
      "cell_type": "code",
      "source": "dfb.to_pickle('./data/batters.pkl')",
      "execution_count": 125,
      "outputs": []
    }
  ],
  "metadata": {
    "kernelspec": {
      "name": "python36",
      "display_name": "Python 3.6",
      "language": "python"
    },
    "language_info": {
      "mimetype": "text/x-python",
      "nbconvert_exporter": "python",
      "name": "python",
      "pygments_lexer": "ipython3",
      "version": "3.6.6",
      "file_extension": ".py",
      "codemirror_mode": {
        "version": 3,
        "name": "ipython"
      }
    }
  },
  "nbformat": 4,
  "nbformat_minor": 2
}