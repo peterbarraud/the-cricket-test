{
  "cells": [
    {
      "metadata": {
        "trusted": true
      },
      "cell_type": "code",
      "source": "import pandas as pd\nimport numpy as np\ndf = pd.read_pickle('./data/batters.pkl')",
      "execution_count": 1,
      "outputs": []
    },
    {
      "metadata": {
        "trusted": true
      },
      "cell_type": "code",
      "source": "df.head()",
      "execution_count": 3,
      "outputs": [
        {
          "output_type": "execute_result",
          "execution_count": 3,
          "data": {
            "text/html": "<div>\n<style scoped>\n    .dataframe tbody tr th:only-of-type {\n        vertical-align: middle;\n    }\n\n    .dataframe tbody tr th {\n        vertical-align: top;\n    }\n\n    .dataframe thead th {\n        text-align: right;\n    }\n</style>\n<table border=\"1\" class=\"dataframe\">\n  <thead>\n    <tr style=\"text-align: right;\">\n      <th></th>\n      <th>Innings Player</th>\n      <th>Innings Runs Scored</th>\n      <th>Innings Runs Scored Num</th>\n      <th>Innings Minutes Batted</th>\n      <th>Innings Batted Flag</th>\n      <th>Innings Not Out Flag</th>\n      <th>Innings Balls Faced</th>\n      <th>Innings Boundary Fours</th>\n      <th>Innings Boundary Sixes</th>\n      <th>Innings Batting Strike Rate</th>\n      <th>Innings Number</th>\n      <th>50's</th>\n      <th>100's</th>\n      <th>Innings Runs Scored Buckets</th>\n    </tr>\n  </thead>\n  <tbody>\n    <tr>\n      <th>0</th>\n      <td>L Hutton</td>\n      <td>364</td>\n      <td>364</td>\n      <td>797</td>\n      <td>1.0</td>\n      <td>0.0</td>\n      <td>847</td>\n      <td>35</td>\n      <td>0</td>\n      <td>42.97</td>\n      <td>1</td>\n      <td>0.0</td>\n      <td>1.0</td>\n      <td>200+</td>\n    </tr>\n    <tr>\n      <th>1</th>\n      <td>WR Hammond</td>\n      <td>336*</td>\n      <td>336</td>\n      <td>318</td>\n      <td>1.0</td>\n      <td>1.0</td>\n      <td>-</td>\n      <td>34</td>\n      <td>10</td>\n      <td>-</td>\n      <td>2</td>\n      <td>0.0</td>\n      <td>1.0</td>\n      <td>200+</td>\n    </tr>\n    <tr>\n      <th>2</th>\n      <td>GA Gooch</td>\n      <td>333</td>\n      <td>333</td>\n      <td>628</td>\n      <td>1.0</td>\n      <td>0.0</td>\n      <td>485</td>\n      <td>43</td>\n      <td>3</td>\n      <td>68.65</td>\n      <td>1</td>\n      <td>0.0</td>\n      <td>1.0</td>\n      <td>200+</td>\n    </tr>\n    <tr>\n      <th>3</th>\n      <td>A Sandham</td>\n      <td>325</td>\n      <td>325</td>\n      <td>600</td>\n      <td>1.0</td>\n      <td>0.0</td>\n      <td>640</td>\n      <td>28</td>\n      <td>0</td>\n      <td>50.78</td>\n      <td>1</td>\n      <td>0.0</td>\n      <td>1.0</td>\n      <td>200+</td>\n    </tr>\n    <tr>\n      <th>4</th>\n      <td>JH Edrich</td>\n      <td>310*</td>\n      <td>310</td>\n      <td>532</td>\n      <td>1.0</td>\n      <td>1.0</td>\n      <td>450</td>\n      <td>52</td>\n      <td>5</td>\n      <td>68.88</td>\n      <td>1</td>\n      <td>0.0</td>\n      <td>1.0</td>\n      <td>200+</td>\n    </tr>\n  </tbody>\n</table>\n</div>",
            "text/plain": "  Innings Player Innings Runs Scored Innings Runs Scored Num  \\\n0       L Hutton                 364                     364   \n1     WR Hammond                336*                     336   \n2       GA Gooch                 333                     333   \n3      A Sandham                 325                     325   \n4      JH Edrich                310*                     310   \n\n  Innings Minutes Batted  Innings Batted Flag  Innings Not Out Flag  \\\n0                    797                  1.0                   0.0   \n1                    318                  1.0                   1.0   \n2                    628                  1.0                   0.0   \n3                    600                  1.0                   0.0   \n4                    532                  1.0                   1.0   \n\n  Innings Balls Faced Innings Boundary Fours Innings Boundary Sixes  \\\n0                 847                     35                      0   \n1                   -                     34                     10   \n2                 485                     43                      3   \n3                 640                     28                      0   \n4                 450                     52                      5   \n\n  Innings Batting Strike Rate Innings Number  50's  100's  \\\n0                       42.97              1   0.0    1.0   \n1                           -              2   0.0    1.0   \n2                       68.65              1   0.0    1.0   \n3                       50.78              1   0.0    1.0   \n4                       68.88              1   0.0    1.0   \n\n  Innings Runs Scored Buckets  \n0                        200+  \n1                        200+  \n2                        200+  \n3                        200+  \n4                        200+  "
          },
          "metadata": {}
        }
      ]
    },
    {
      "metadata": {},
      "cell_type": "markdown",
      "source": "# Innings Runs Scored\nPossible values are\n* Numeric: Runs scored\n* Numeric: Runs scored appended with * for NO\n* DNB: Did Not Bat\n* absent: Probably retired hurt\n* TDNB: ?\n* sub: Substitute\n* NaN: For bowler rows\n\n**Use**: NO. *Since we're interested in stuff like scores and averages.*"
    },
    {
      "metadata": {
        "trusted": true
      },
      "cell_type": "code",
      "source": "df[(df['Innings Runs Scored'].str.isnumeric() == False) & (df['Innings Runs Scored'].str.endswith(\"*\") == False)]['Innings Runs Scored'].unique()",
      "execution_count": 8,
      "outputs": [
        {
          "output_type": "execute_result",
          "execution_count": 8,
          "data": {
            "text/plain": "array(['DNB', 'absent', 'TDNB', 'sub'], dtype=object)"
          },
          "metadata": {}
        }
      ]
    },
    {
      "metadata": {},
      "cell_type": "markdown",
      "source": "# Innings Runs Scored Num\nPossible values:\n* Numeric: Runs scored\n* \\- (Dash): For `DNB`, `absent`, `TDNB`, `sub` of `Innings Runs Scored` column\n* NaN: For bowler rows\n\n**Use**: Yes. But, we're going to replace the `-` with NaN - `fillna`, maybe. Basically, we don't really care why a batter didn't bat. Just that the batter did or didn't. And replacing - with NaN allows us to dtype this as a Int / Float column. And then do number crunching (literally) on it."
    },
    {
      "metadata": {
        "trusted": true
      },
      "cell_type": "code",
      "source": "df[(df['Innings Runs Scored Num'].str.isnumeric() == False)]['Innings Runs Scored'].unique()",
      "execution_count": 12,
      "outputs": [
        {
          "output_type": "execute_result",
          "execution_count": 12,
          "data": {
            "text/plain": "array(['DNB', 'absent', 'TDNB', 'sub'], dtype=object)"
          },
          "metadata": {}
        }
      ]
    },
    {
      "metadata": {},
      "cell_type": "markdown",
      "source": "# Innings Minutes Batted\nPossible values:\n* Numeric: Minutes\n* \\- (Dash): Possibly for not recorded\n* NaN: For bowler rows\n\n**Use**: Yes. Again, let's replace `-` with `NaN`. See `Innings Runs Scored Num` for explanation"
    },
    {
      "metadata": {
        "trusted": true
      },
      "cell_type": "code",
      "source": "df[df['Innings Minutes Batted'].str.isnumeric() == False]['Innings Minutes Batted'].unique()",
      "execution_count": 18,
      "outputs": [
        {
          "output_type": "execute_result",
          "execution_count": 18,
          "data": {
            "text/plain": "array(['-'], dtype=object)"
          },
          "metadata": {}
        }
      ]
    },
    {
      "metadata": {},
      "cell_type": "markdown",
      "source": "# Innings Batted Flag\nPossible values:\n* 1: Batted\n* 0: Not batted. For `DNB`, `absent`, `TDNB`, `sub` of `Innings Runs Scored` column\n\n**Use**: No. The `Innings Runs Scored Num` column should do the job. I think"
    },
    {
      "metadata": {
        "trusted": true
      },
      "cell_type": "code",
      "source": "df[(df['Innings Batted Flag'] == 0)]['Innings Runs Scored'].unique()",
      "execution_count": 24,
      "outputs": [
        {
          "output_type": "execute_result",
          "execution_count": 24,
          "data": {
            "text/plain": "array(['DNB', 'absent', 'TDNB', 'sub'], dtype=object)"
          },
          "metadata": {}
        }
      ]
    },
    {
      "metadata": {},
      "cell_type": "markdown",
      "source": "# Innings Not Out Flag\nPossible values:\n* 1: Not out\n* 0: Out\n* NaN: For bowler rows\n\n**Use**: Yes."
    },
    {
      "metadata": {
        "trusted": true
      },
      "cell_type": "code",
      "source": "df[(df['Innings Not Out Flag'].isna() == False)]['Innings Not Out Flag'].unique()",
      "execution_count": 31,
      "outputs": [
        {
          "output_type": "execute_result",
          "execution_count": 31,
          "data": {
            "text/plain": "array([0., 1.])"
          },
          "metadata": {}
        }
      ]
    },
    {
      "metadata": {},
      "cell_type": "markdown",
      "source": "# Innings Balls Faced\nPossible values:\n* Numeric: Balls faced\n* \\- (Dash): Possibly for not recorded\n* NaN: For bowler rows\n\n**Use**: Yes. Again, let's replace `-` with `NaN`. See `Innings Runs Scored Num` for explanation"
    },
    {
      "metadata": {
        "trusted": true
      },
      "cell_type": "code",
      "source": "df[df['Innings Balls Faced'].str.isnumeric() == False]['Innings Balls Faced'].unique()\n    ",
      "execution_count": 32,
      "outputs": [
        {
          "output_type": "execute_result",
          "execution_count": 32,
          "data": {
            "text/plain": "array(['-'], dtype=object)"
          },
          "metadata": {}
        }
      ]
    },
    {
      "metadata": {},
      "cell_type": "markdown",
      "source": "# Innings Boundary Fours\nPossible values:\nNumeric: Balls faced\n•- (Dash): Possibly for not recorded\n•NaN: For bowler rows\n\n**Use**: Yes. Again, let's replace `-` with `NaN`. See `Innings Runs Scored Num` for explanation\n"
    },
    {
      "metadata": {
        "trusted": true
      },
      "cell_type": "code",
      "source": "df[df['Innings Boundary Fours'].str.isnumeric() == False]['Innings Boundary Fours'].unique()",
      "execution_count": 16,
      "outputs": [
        {
          "output_type": "execute_result",
          "execution_count": 16,
          "data": {
            "text/plain": "array(['-'], dtype=object)"
          },
          "metadata": {}
        }
      ]
    },
    {
      "metadata": {},
      "cell_type": "markdown",
      "source": "# Innings Boundary Sixes\nSee `Innings Boundary Fours`"
    },
    {
      "metadata": {
        "trusted": true
      },
      "cell_type": "code",
      "source": "df[df['Innings Boundary Sixes'].str.isnumeric() == False]['Innings Boundary Sixes'].unique()",
      "execution_count": 17,
      "outputs": [
        {
          "output_type": "execute_result",
          "execution_count": 17,
          "data": {
            "text/plain": "array(['-'], dtype=object)"
          },
          "metadata": {}
        }
      ]
    },
    {
      "metadata": {},
      "cell_type": "markdown",
      "source": "# Innings Batting Strike Rate\nPossible values\n* Numeric: Strike rate\n* \\- (Dash): Possibly for not recorded\n* NaN: For bowler rows\n\n**Use**: No. This is computed as `Innings Runs Scored Num` / `Innings Balls Faced`.\nBut when computing this, we need to keep in mind that `Innings Runs Scored Num` could be a Numeric. But this field is not computable if `Innings Balls Faced` is `NaN` (because it wasn't recorded). See `Innings Balls Faced`"
    },
    {
      "metadata": {},
      "cell_type": "markdown",
      "source": "# Innings Number\nPossible values:\n* 1: First innings\n* 2: Second innings\n* \\- (Dash): If `Innings Runs Scored` = `TDNB`. And we'll replace `-` with `NaN`. For both batters anad bowlers\n\n**Use**: Yes."
    },
    {
      "metadata": {
        "trusted": true
      },
      "cell_type": "code",
      "source": "df[(df['Innings Number'] == '-') & (df['Innings Runs Scored'] != 'TDNB')]",
      "execution_count": 30,
      "outputs": [
        {
          "output_type": "execute_result",
          "execution_count": 30,
          "data": {
            "text/html": "<div>\n<style scoped>\n    .dataframe tbody tr th:only-of-type {\n        vertical-align: middle;\n    }\n\n    .dataframe tbody tr th {\n        vertical-align: top;\n    }\n\n    .dataframe thead th {\n        text-align: right;\n    }\n</style>\n<table border=\"1\" class=\"dataframe\">\n  <thead>\n    <tr style=\"text-align: right;\">\n      <th></th>\n      <th>Innings Player</th>\n      <th>Innings Runs Scored</th>\n      <th>Innings Runs Scored Num</th>\n      <th>Innings Minutes Batted</th>\n      <th>Innings Batted Flag</th>\n      <th>Innings Not Out Flag</th>\n      <th>Innings Balls Faced</th>\n      <th>Innings Boundary Fours</th>\n      <th>Innings Boundary Sixes</th>\n      <th>Innings Batting Strike Rate</th>\n      <th>...</th>\n      <th>Innings Overs Bowled</th>\n      <th>Innings Bowled Flag</th>\n      <th>Innings Maidens Bowled</th>\n      <th>Innings Runs Conceded</th>\n      <th>Innings Wickets Taken</th>\n      <th>4 Wickets</th>\n      <th>5 Wickets</th>\n      <th>10 Wickets</th>\n      <th>Innings Wickets Taken Buckets</th>\n      <th>Innings Economy Rate</th>\n    </tr>\n  </thead>\n  <tbody>\n  </tbody>\n</table>\n<p>0 rows × 28 columns</p>\n</div>",
            "text/plain": "Empty DataFrame\nColumns: [Innings Player, Innings Runs Scored, Innings Runs Scored Num, Innings Minutes Batted, Innings Batted Flag, Innings Not Out Flag, Innings Balls Faced, Innings Boundary Fours, Innings Boundary Sixes, Innings Batting Strike Rate, Innings Number, Opposition, Ground, Innings Date, Country, 50's, 100's, Innings Runs Scored Buckets, Innings Overs Bowled, Innings Bowled Flag, Innings Maidens Bowled, Innings Runs Conceded, Innings Wickets Taken, 4 Wickets, 5 Wickets, 10 Wickets, Innings Wickets Taken Buckets, Innings Economy Rate]\nIndex: []\n\n[0 rows x 28 columns]"
          },
          "metadata": {}
        }
      ]
    },
    {
      "metadata": {},
      "cell_type": "markdown",
      "source": "# 50's\nPossible values:\n* 1: 49 < `Innings Runs Scored Num` < 100\n* 0: Not a half century\n* NaN: For bowler rows\n\n**Use**: No. Computed field"
    },
    {
      "metadata": {
        "trusted": true
      },
      "cell_type": "code",
      "source": "df[(df[\"50's\"] == 0)]",
      "execution_count": 37,
      "outputs": [
        {
          "output_type": "execute_result",
          "execution_count": 37,
          "data": {
            "text/html": "<div>\n<style scoped>\n    .dataframe tbody tr th:only-of-type {\n        vertical-align: middle;\n    }\n\n    .dataframe tbody tr th {\n        vertical-align: top;\n    }\n\n    .dataframe thead th {\n        text-align: right;\n    }\n</style>\n<table border=\"1\" class=\"dataframe\">\n  <thead>\n    <tr style=\"text-align: right;\">\n      <th></th>\n      <th>Innings Player</th>\n      <th>Innings Runs Scored</th>\n      <th>Innings Runs Scored Num</th>\n      <th>Innings Minutes Batted</th>\n      <th>Innings Batted Flag</th>\n      <th>Innings Not Out Flag</th>\n      <th>Innings Balls Faced</th>\n      <th>Innings Boundary Fours</th>\n      <th>Innings Boundary Sixes</th>\n      <th>Innings Batting Strike Rate</th>\n      <th>Innings Number</th>\n      <th>50's</th>\n      <th>100's</th>\n      <th>Innings Runs Scored Buckets</th>\n    </tr>\n  </thead>\n  <tbody>\n    <tr>\n      <th>0</th>\n      <td>L Hutton</td>\n      <td>364</td>\n      <td>364</td>\n      <td>797</td>\n      <td>1.0</td>\n      <td>0.0</td>\n      <td>847</td>\n      <td>35</td>\n      <td>0</td>\n      <td>42.97</td>\n      <td>1</td>\n      <td>0.0</td>\n      <td>1.0</td>\n      <td>200+</td>\n    </tr>\n    <tr>\n      <th>1</th>\n      <td>WR Hammond</td>\n      <td>336*</td>\n      <td>336</td>\n      <td>318</td>\n      <td>1.0</td>\n      <td>1.0</td>\n      <td>-</td>\n      <td>34</td>\n      <td>10</td>\n      <td>-</td>\n      <td>2</td>\n      <td>0.0</td>\n      <td>1.0</td>\n      <td>200+</td>\n    </tr>\n    <tr>\n      <th>2</th>\n      <td>GA Gooch</td>\n      <td>333</td>\n      <td>333</td>\n      <td>628</td>\n      <td>1.0</td>\n      <td>0.0</td>\n      <td>485</td>\n      <td>43</td>\n      <td>3</td>\n      <td>68.65</td>\n      <td>1</td>\n      <td>0.0</td>\n      <td>1.0</td>\n      <td>200+</td>\n    </tr>\n    <tr>\n      <th>3</th>\n      <td>A Sandham</td>\n      <td>325</td>\n      <td>325</td>\n      <td>600</td>\n      <td>1.0</td>\n      <td>0.0</td>\n      <td>640</td>\n      <td>28</td>\n      <td>0</td>\n      <td>50.78</td>\n      <td>1</td>\n      <td>0.0</td>\n      <td>1.0</td>\n      <td>200+</td>\n    </tr>\n    <tr>\n      <th>4</th>\n      <td>JH Edrich</td>\n      <td>310*</td>\n      <td>310</td>\n      <td>532</td>\n      <td>1.0</td>\n      <td>1.0</td>\n      <td>450</td>\n      <td>52</td>\n      <td>5</td>\n      <td>68.88</td>\n      <td>1</td>\n      <td>0.0</td>\n      <td>1.0</td>\n      <td>200+</td>\n    </tr>\n    <tr>\n      <th>5</th>\n      <td>AN Cook</td>\n      <td>294</td>\n      <td>294</td>\n      <td>773</td>\n      <td>1.0</td>\n      <td>0.0</td>\n      <td>545</td>\n      <td>33</td>\n      <td>0</td>\n      <td>53.94</td>\n      <td>2</td>\n      <td>0.0</td>\n      <td>1.0</td>\n      <td>200+</td>\n    </tr>\n    <tr>\n      <th>6</th>\n      <td>RE Foster</td>\n      <td>287</td>\n      <td>287</td>\n      <td>419</td>\n      <td>1.0</td>\n      <td>0.0</td>\n      <td>-</td>\n      <td>37</td>\n      <td>0</td>\n      <td>-</td>\n      <td>2</td>\n      <td>0.0</td>\n      <td>1.0</td>\n      <td>200+</td>\n    </tr>\n    <tr>\n      <th>7</th>\n      <td>PBH May</td>\n      <td>285*</td>\n      <td>285</td>\n      <td>600</td>\n      <td>1.0</td>\n      <td>1.0</td>\n      <td>-</td>\n      <td>25</td>\n      <td>2</td>\n      <td>-</td>\n      <td>3</td>\n      <td>0.0</td>\n      <td>1.0</td>\n      <td>200+</td>\n    </tr>\n    <tr>\n      <th>8</th>\n      <td>DCS Compton</td>\n      <td>278</td>\n      <td>278</td>\n      <td>287</td>\n      <td>1.0</td>\n      <td>0.0</td>\n      <td>-</td>\n      <td>34</td>\n      <td>1</td>\n      <td>-</td>\n      <td>2</td>\n      <td>0.0</td>\n      <td>1.0</td>\n      <td>200+</td>\n    </tr>\n    <tr>\n      <th>9</th>\n      <td>AN Cook</td>\n      <td>263</td>\n      <td>263</td>\n      <td>836</td>\n      <td>1.0</td>\n      <td>0.0</td>\n      <td>528</td>\n      <td>18</td>\n      <td>0</td>\n      <td>49.81</td>\n      <td>2</td>\n      <td>0.0</td>\n      <td>1.0</td>\n      <td>200+</td>\n    </tr>\n    <tr>\n      <th>10</th>\n      <td>DL Amiss</td>\n      <td>262*</td>\n      <td>262</td>\n      <td>570</td>\n      <td>1.0</td>\n      <td>1.0</td>\n      <td>563</td>\n      <td>40</td>\n      <td>1</td>\n      <td>46.53</td>\n      <td>3</td>\n      <td>0.0</td>\n      <td>1.0</td>\n      <td>200+</td>\n    </tr>\n    <tr>\n      <th>11</th>\n      <td>TW Graveney</td>\n      <td>258</td>\n      <td>258</td>\n      <td>471</td>\n      <td>1.0</td>\n      <td>0.0</td>\n      <td>-</td>\n      <td>30</td>\n      <td>0</td>\n      <td>-</td>\n      <td>1</td>\n      <td>0.0</td>\n      <td>1.0</td>\n      <td>200+</td>\n    </tr>\n    <tr>\n      <th>12</th>\n      <td>BA Stokes</td>\n      <td>258</td>\n      <td>258</td>\n      <td>338</td>\n      <td>1.0</td>\n      <td>0.0</td>\n      <td>198</td>\n      <td>30</td>\n      <td>11</td>\n      <td>130.30</td>\n      <td>1</td>\n      <td>0.0</td>\n      <td>1.0</td>\n      <td>200+</td>\n    </tr>\n    <tr>\n      <th>13</th>\n      <td>KF Barrington</td>\n      <td>256</td>\n      <td>256</td>\n      <td>683</td>\n      <td>1.0</td>\n      <td>0.0</td>\n      <td>624</td>\n      <td>26</td>\n      <td>0</td>\n      <td>41.02</td>\n      <td>2</td>\n      <td>0.0</td>\n      <td>1.0</td>\n      <td>200+</td>\n    </tr>\n    <tr>\n      <th>14</th>\n      <td>JE Root</td>\n      <td>254</td>\n      <td>254</td>\n      <td>614</td>\n      <td>1.0</td>\n      <td>0.0</td>\n      <td>406</td>\n      <td>27</td>\n      <td>0</td>\n      <td>62.56</td>\n      <td>1</td>\n      <td>0.0</td>\n      <td>1.0</td>\n      <td>200+</td>\n    </tr>\n    <tr>\n      <th>15</th>\n      <td>WR Hammond</td>\n      <td>251</td>\n      <td>251</td>\n      <td>461</td>\n      <td>1.0</td>\n      <td>0.0</td>\n      <td>605</td>\n      <td>30</td>\n      <td>0</td>\n      <td>41.48</td>\n      <td>2</td>\n      <td>0.0</td>\n      <td>1.0</td>\n      <td>200+</td>\n    </tr>\n    <tr>\n      <th>16</th>\n      <td>G Boycott</td>\n      <td>246*</td>\n      <td>246</td>\n      <td>573</td>\n      <td>1.0</td>\n      <td>1.0</td>\n      <td>555</td>\n      <td>30</td>\n      <td>1</td>\n      <td>44.32</td>\n      <td>1</td>\n      <td>0.0</td>\n      <td>1.0</td>\n      <td>200+</td>\n    </tr>\n    <tr>\n      <th>17</th>\n      <td>AN Cook</td>\n      <td>244*</td>\n      <td>244</td>\n      <td>634</td>\n      <td>1.0</td>\n      <td>1.0</td>\n      <td>409</td>\n      <td>27</td>\n      <td>0</td>\n      <td>59.65</td>\n      <td>2</td>\n      <td>0.0</td>\n      <td>1.0</td>\n      <td>200+</td>\n    </tr>\n    <tr>\n      <th>18</th>\n      <td>E Paynter</td>\n      <td>243</td>\n      <td>243</td>\n      <td>334</td>\n      <td>1.0</td>\n      <td>0.0</td>\n      <td>-</td>\n      <td>24</td>\n      <td>0</td>\n      <td>-</td>\n      <td>1</td>\n      <td>0.0</td>\n      <td>1.0</td>\n      <td>200+</td>\n    </tr>\n    <tr>\n      <th>19</th>\n      <td>AN Cook</td>\n      <td>243</td>\n      <td>243</td>\n      <td>588</td>\n      <td>1.0</td>\n      <td>0.0</td>\n      <td>407</td>\n      <td>33</td>\n      <td>0</td>\n      <td>59.70</td>\n      <td>1</td>\n      <td>0.0</td>\n      <td>1.0</td>\n      <td>200+</td>\n    </tr>\n    <tr>\n      <th>20</th>\n      <td>WR Hammond</td>\n      <td>240</td>\n      <td>240</td>\n      <td>367</td>\n      <td>1.0</td>\n      <td>0.0</td>\n      <td>394</td>\n      <td>32</td>\n      <td>0</td>\n      <td>60.91</td>\n      <td>1</td>\n      <td>0.0</td>\n      <td>1.0</td>\n      <td>200+</td>\n    </tr>\n    <tr>\n      <th>21</th>\n      <td>AN Cook</td>\n      <td>235*</td>\n      <td>235</td>\n      <td>625</td>\n      <td>1.0</td>\n      <td>1.0</td>\n      <td>428</td>\n      <td>26</td>\n      <td>0</td>\n      <td>54.90</td>\n      <td>3</td>\n      <td>0.0</td>\n      <td>1.0</td>\n      <td>200+</td>\n    </tr>\n    <tr>\n      <th>22</th>\n      <td>IR Bell</td>\n      <td>235</td>\n      <td>235</td>\n      <td>497</td>\n      <td>1.0</td>\n      <td>0.0</td>\n      <td>364</td>\n      <td>23</td>\n      <td>2</td>\n      <td>64.56</td>\n      <td>1</td>\n      <td>0.0</td>\n      <td>1.0</td>\n      <td>200+</td>\n    </tr>\n    <tr>\n      <th>23</th>\n      <td>WR Hammond</td>\n      <td>231*</td>\n      <td>231</td>\n      <td>460</td>\n      <td>1.0</td>\n      <td>1.0</td>\n      <td>579</td>\n      <td>27</td>\n      <td>0</td>\n      <td>39.89</td>\n      <td>1</td>\n      <td>0.0</td>\n      <td>1.0</td>\n      <td>200+</td>\n    </tr>\n    <tr>\n      <th>24</th>\n      <td>WR Hammond</td>\n      <td>227</td>\n      <td>227</td>\n      <td>301</td>\n      <td>1.0</td>\n      <td>0.0</td>\n      <td>-</td>\n      <td>-</td>\n      <td>0</td>\n      <td>-</td>\n      <td>1</td>\n      <td>0.0</td>\n      <td>1.0</td>\n      <td>200+</td>\n    </tr>\n    <tr>\n      <th>25</th>\n      <td>KP Pietersen</td>\n      <td>227</td>\n      <td>227</td>\n      <td>428</td>\n      <td>1.0</td>\n      <td>0.0</td>\n      <td>308</td>\n      <td>33</td>\n      <td>1</td>\n      <td>73.70</td>\n      <td>2</td>\n      <td>0.0</td>\n      <td>1.0</td>\n      <td>200+</td>\n    </tr>\n    <tr>\n      <th>26</th>\n      <td>KP Pietersen</td>\n      <td>226</td>\n      <td>226</td>\n      <td>432</td>\n      <td>1.0</td>\n      <td>0.0</td>\n      <td>262</td>\n      <td>24</td>\n      <td>2</td>\n      <td>86.25</td>\n      <td>1</td>\n      <td>0.0</td>\n      <td>1.0</td>\n      <td>200+</td>\n    </tr>\n    <tr>\n      <th>27</th>\n      <td>IJL Trott</td>\n      <td>226</td>\n      <td>226</td>\n      <td>490</td>\n      <td>1.0</td>\n      <td>0.0</td>\n      <td>349</td>\n      <td>20</td>\n      <td>0</td>\n      <td>64.75</td>\n      <td>1</td>\n      <td>0.0</td>\n      <td>1.0</td>\n      <td>200+</td>\n    </tr>\n    <tr>\n      <th>28</th>\n      <td>RWT Key</td>\n      <td>221</td>\n      <td>221</td>\n      <td>426</td>\n      <td>1.0</td>\n      <td>0.0</td>\n      <td>288</td>\n      <td>31</td>\n      <td>0</td>\n      <td>76.73</td>\n      <td>1</td>\n      <td>0.0</td>\n      <td>1.0</td>\n      <td>200+</td>\n    </tr>\n    <tr>\n      <th>29</th>\n      <td>WJ Edrich</td>\n      <td>219</td>\n      <td>219</td>\n      <td>460</td>\n      <td>1.0</td>\n      <td>0.0</td>\n      <td>-</td>\n      <td>25</td>\n      <td>0</td>\n      <td>-</td>\n      <td>4</td>\n      <td>0.0</td>\n      <td>1.0</td>\n      <td>200+</td>\n    </tr>\n    <tr>\n      <th>...</th>\n      <td>...</td>\n      <td>...</td>\n      <td>...</td>\n      <td>...</td>\n      <td>...</td>\n      <td>...</td>\n      <td>...</td>\n      <td>...</td>\n      <td>...</td>\n      <td>...</td>\n      <td>...</td>\n      <td>...</td>\n      <td>...</td>\n      <td>...</td>\n    </tr>\n    <tr>\n      <th>94409</th>\n      <td>TJ Murtagh</td>\n      <td>5*</td>\n      <td>5</td>\n      <td>9</td>\n      <td>1.0</td>\n      <td>1.0</td>\n      <td>3</td>\n      <td>1</td>\n      <td>0</td>\n      <td>166.66</td>\n      <td>3</td>\n      <td>0.0</td>\n      <td>0.0</td>\n      <td>0-49</td>\n    </tr>\n    <tr>\n      <th>94410</th>\n      <td>TJ Murtagh</td>\n      <td>5</td>\n      <td>5</td>\n      <td>18</td>\n      <td>1.0</td>\n      <td>0.0</td>\n      <td>7</td>\n      <td>1</td>\n      <td>0</td>\n      <td>71.42</td>\n      <td>2</td>\n      <td>0.0</td>\n      <td>0.0</td>\n      <td>0-49</td>\n    </tr>\n    <tr>\n      <th>94411</th>\n      <td>A Balbirnie</td>\n      <td>5</td>\n      <td>5</td>\n      <td>16</td>\n      <td>1.0</td>\n      <td>0.0</td>\n      <td>10</td>\n      <td>1</td>\n      <td>0</td>\n      <td>50.00</td>\n      <td>4</td>\n      <td>0.0</td>\n      <td>0.0</td>\n      <td>0-49</td>\n    </tr>\n    <tr>\n      <th>94412</th>\n      <td>EC Joyce</td>\n      <td>4</td>\n      <td>4</td>\n      <td>9</td>\n      <td>1.0</td>\n      <td>0.0</td>\n      <td>4</td>\n      <td>0</td>\n      <td>0</td>\n      <td>100.00</td>\n      <td>2</td>\n      <td>0.0</td>\n      <td>0.0</td>\n      <td>0-49</td>\n    </tr>\n    <tr>\n      <th>94413</th>\n      <td>A Balbirnie</td>\n      <td>4</td>\n      <td>4</td>\n      <td>-</td>\n      <td>1.0</td>\n      <td>0.0</td>\n      <td>7</td>\n      <td>1</td>\n      <td>0</td>\n      <td>57.14</td>\n      <td>1</td>\n      <td>0.0</td>\n      <td>0.0</td>\n      <td>0-49</td>\n    </tr>\n    <tr>\n      <th>94414</th>\n      <td>JA McCollum</td>\n      <td>4</td>\n      <td>4</td>\n      <td>-</td>\n      <td>1.0</td>\n      <td>0.0</td>\n      <td>9</td>\n      <td>1</td>\n      <td>0</td>\n      <td>44.44</td>\n      <td>1</td>\n      <td>0.0</td>\n      <td>0.0</td>\n      <td>0-49</td>\n    </tr>\n    <tr>\n      <th>94415</th>\n      <td>AR McBrine</td>\n      <td>4</td>\n      <td>4</td>\n      <td>-</td>\n      <td>1.0</td>\n      <td>0.0</td>\n      <td>13</td>\n      <td>1</td>\n      <td>0</td>\n      <td>30.76</td>\n      <td>3</td>\n      <td>0.0</td>\n      <td>0.0</td>\n      <td>0-49</td>\n    </tr>\n    <tr>\n      <th>94416</th>\n      <td>KJ O'Brien</td>\n      <td>4</td>\n      <td>4</td>\n      <td>21</td>\n      <td>1.0</td>\n      <td>0.0</td>\n      <td>8</td>\n      <td>1</td>\n      <td>0</td>\n      <td>50.00</td>\n      <td>4</td>\n      <td>0.0</td>\n      <td>0.0</td>\n      <td>0-49</td>\n    </tr>\n    <tr>\n      <th>94417</th>\n      <td>SR Thompson</td>\n      <td>4</td>\n      <td>4</td>\n      <td>24</td>\n      <td>1.0</td>\n      <td>0.0</td>\n      <td>9</td>\n      <td>1</td>\n      <td>0</td>\n      <td>44.44</td>\n      <td>4</td>\n      <td>0.0</td>\n      <td>0.0</td>\n      <td>0-49</td>\n    </tr>\n    <tr>\n      <th>94418</th>\n      <td>SR Thompson</td>\n      <td>3</td>\n      <td>3</td>\n      <td>40</td>\n      <td>1.0</td>\n      <td>0.0</td>\n      <td>21</td>\n      <td>0</td>\n      <td>0</td>\n      <td>14.28</td>\n      <td>2</td>\n      <td>0.0</td>\n      <td>0.0</td>\n      <td>0-49</td>\n    </tr>\n    <tr>\n      <th>94419</th>\n      <td>SR Thompson</td>\n      <td>3</td>\n      <td>3</td>\n      <td>-</td>\n      <td>1.0</td>\n      <td>0.0</td>\n      <td>31</td>\n      <td>0</td>\n      <td>0</td>\n      <td>9.67</td>\n      <td>1</td>\n      <td>0.0</td>\n      <td>0.0</td>\n      <td>0-49</td>\n    </tr>\n    <tr>\n      <th>94420</th>\n      <td>AR McBrine</td>\n      <td>3</td>\n      <td>3</td>\n      <td>-</td>\n      <td>1.0</td>\n      <td>0.0</td>\n      <td>26</td>\n      <td>0</td>\n      <td>0</td>\n      <td>11.53</td>\n      <td>1</td>\n      <td>0.0</td>\n      <td>0.0</td>\n      <td>0-49</td>\n    </tr>\n    <tr>\n      <th>94421</th>\n      <td>MR Adair</td>\n      <td>3</td>\n      <td>3</td>\n      <td>22</td>\n      <td>1.0</td>\n      <td>0.0</td>\n      <td>9</td>\n      <td>0</td>\n      <td>0</td>\n      <td>33.33</td>\n      <td>2</td>\n      <td>0.0</td>\n      <td>0.0</td>\n      <td>0-49</td>\n    </tr>\n    <tr>\n      <th>94422</th>\n      <td>WTS Porterfield</td>\n      <td>2</td>\n      <td>2</td>\n      <td>23</td>\n      <td>1.0</td>\n      <td>0.0</td>\n      <td>19</td>\n      <td>0</td>\n      <td>0</td>\n      <td>10.52</td>\n      <td>4</td>\n      <td>0.0</td>\n      <td>0.0</td>\n      <td>0-49</td>\n    </tr>\n    <tr>\n      <th>94423</th>\n      <td>TJ Murtagh</td>\n      <td>2</td>\n      <td>2</td>\n      <td>12</td>\n      <td>1.0</td>\n      <td>0.0</td>\n      <td>5</td>\n      <td>0</td>\n      <td>0</td>\n      <td>40.00</td>\n      <td>4</td>\n      <td>0.0</td>\n      <td>0.0</td>\n      <td>0-49</td>\n    </tr>\n    <tr>\n      <th>94424</th>\n      <td>WTS Porterfield</td>\n      <td>1</td>\n      <td>1</td>\n      <td>30</td>\n      <td>1.0</td>\n      <td>0.0</td>\n      <td>20</td>\n      <td>0</td>\n      <td>0</td>\n      <td>5.00</td>\n      <td>2</td>\n      <td>0.0</td>\n      <td>0.0</td>\n      <td>0-49</td>\n    </tr>\n    <tr>\n      <th>94425</th>\n      <td>SW Poynter</td>\n      <td>1</td>\n      <td>1</td>\n      <td>-</td>\n      <td>1.0</td>\n      <td>0.0</td>\n      <td>9</td>\n      <td>0</td>\n      <td>0</td>\n      <td>11.11</td>\n      <td>3</td>\n      <td>0.0</td>\n      <td>0.0</td>\n      <td>0-49</td>\n    </tr>\n    <tr>\n      <th>94426</th>\n      <td>SR Thompson</td>\n      <td>1</td>\n      <td>1</td>\n      <td>-</td>\n      <td>1.0</td>\n      <td>0.0</td>\n      <td>12</td>\n      <td>0</td>\n      <td>0</td>\n      <td>8.33</td>\n      <td>3</td>\n      <td>0.0</td>\n      <td>0.0</td>\n      <td>0-49</td>\n    </tr>\n    <tr>\n      <th>94427</th>\n      <td>WB Rankin</td>\n      <td>0*</td>\n      <td>0</td>\n      <td>8</td>\n      <td>1.0</td>\n      <td>1.0</td>\n      <td>5</td>\n      <td>0</td>\n      <td>0</td>\n      <td>0.00</td>\n      <td>4</td>\n      <td>0.0</td>\n      <td>0.0</td>\n      <td>0-49</td>\n    </tr>\n    <tr>\n      <th>94428</th>\n      <td>A Balbirnie</td>\n      <td>0</td>\n      <td>0</td>\n      <td>16</td>\n      <td>1.0</td>\n      <td>0.0</td>\n      <td>8</td>\n      <td>0</td>\n      <td>0</td>\n      <td>0.00</td>\n      <td>2</td>\n      <td>0.0</td>\n      <td>0.0</td>\n      <td>0-49</td>\n    </tr>\n    <tr>\n      <th>94429</th>\n      <td>NJ O'Brien</td>\n      <td>0</td>\n      <td>0</td>\n      <td>12</td>\n      <td>1.0</td>\n      <td>0.0</td>\n      <td>10</td>\n      <td>0</td>\n      <td>0</td>\n      <td>0.00</td>\n      <td>2</td>\n      <td>0.0</td>\n      <td>0.0</td>\n      <td>0-49</td>\n    </tr>\n    <tr>\n      <th>94430</th>\n      <td>TE Kane</td>\n      <td>0</td>\n      <td>0</td>\n      <td>2</td>\n      <td>1.0</td>\n      <td>0.0</td>\n      <td>2</td>\n      <td>0</td>\n      <td>0</td>\n      <td>0.00</td>\n      <td>2</td>\n      <td>0.0</td>\n      <td>0.0</td>\n      <td>0-49</td>\n    </tr>\n    <tr>\n      <th>94431</th>\n      <td>A Balbirnie</td>\n      <td>0</td>\n      <td>0</td>\n      <td>5</td>\n      <td>1.0</td>\n      <td>0.0</td>\n      <td>4</td>\n      <td>0</td>\n      <td>0</td>\n      <td>0.00</td>\n      <td>3</td>\n      <td>0.0</td>\n      <td>0.0</td>\n      <td>0-49</td>\n    </tr>\n    <tr>\n      <th>94432</th>\n      <td>SW Poynter</td>\n      <td>0</td>\n      <td>0</td>\n      <td>-</td>\n      <td>1.0</td>\n      <td>0.0</td>\n      <td>2</td>\n      <td>0</td>\n      <td>0</td>\n      <td>0.00</td>\n      <td>1</td>\n      <td>0.0</td>\n      <td>0.0</td>\n      <td>0-49</td>\n    </tr>\n    <tr>\n      <th>94433</th>\n      <td>WTS Porterfield</td>\n      <td>0</td>\n      <td>0</td>\n      <td>-</td>\n      <td>1.0</td>\n      <td>0.0</td>\n      <td>2</td>\n      <td>0</td>\n      <td>0</td>\n      <td>0.00</td>\n      <td>3</td>\n      <td>0.0</td>\n      <td>0.0</td>\n      <td>0-49</td>\n    </tr>\n    <tr>\n      <th>94434</th>\n      <td>GC Wilson</td>\n      <td>0</td>\n      <td>0</td>\n      <td>4</td>\n      <td>1.0</td>\n      <td>0.0</td>\n      <td>4</td>\n      <td>0</td>\n      <td>0</td>\n      <td>0.00</td>\n      <td>2</td>\n      <td>0.0</td>\n      <td>0.0</td>\n      <td>0-49</td>\n    </tr>\n    <tr>\n      <th>94435</th>\n      <td>SR Thompson</td>\n      <td>0</td>\n      <td>0</td>\n      <td>12</td>\n      <td>1.0</td>\n      <td>0.0</td>\n      <td>5</td>\n      <td>0</td>\n      <td>0</td>\n      <td>0.00</td>\n      <td>2</td>\n      <td>0.0</td>\n      <td>0.0</td>\n      <td>0-49</td>\n    </tr>\n    <tr>\n      <th>94436</th>\n      <td>PR Stirling</td>\n      <td>0</td>\n      <td>0</td>\n      <td>4</td>\n      <td>1.0</td>\n      <td>0.0</td>\n      <td>2</td>\n      <td>0</td>\n      <td>0</td>\n      <td>0.00</td>\n      <td>4</td>\n      <td>0.0</td>\n      <td>0.0</td>\n      <td>0-49</td>\n    </tr>\n    <tr>\n      <th>94437</th>\n      <td>GC Wilson</td>\n      <td>0</td>\n      <td>0</td>\n      <td>4</td>\n      <td>1.0</td>\n      <td>0.0</td>\n      <td>2</td>\n      <td>0</td>\n      <td>0</td>\n      <td>0.00</td>\n      <td>4</td>\n      <td>0.0</td>\n      <td>0.0</td>\n      <td>0-49</td>\n    </tr>\n    <tr>\n      <th>94438</th>\n      <td>AR McBrine</td>\n      <td>0</td>\n      <td>0</td>\n      <td>10</td>\n      <td>1.0</td>\n      <td>0.0</td>\n      <td>2</td>\n      <td>0</td>\n      <td>0</td>\n      <td>0.00</td>\n      <td>4</td>\n      <td>0.0</td>\n      <td>0.0</td>\n      <td>0-49</td>\n    </tr>\n  </tbody>\n</table>\n<p>84334 rows × 14 columns</p>\n</div>",
            "text/plain": "        Innings Player Innings Runs Scored Innings Runs Scored Num  \\\n0             L Hutton                 364                     364   \n1           WR Hammond                336*                     336   \n2             GA Gooch                 333                     333   \n3            A Sandham                 325                     325   \n4            JH Edrich                310*                     310   \n5              AN Cook                 294                     294   \n6            RE Foster                 287                     287   \n7              PBH May                285*                     285   \n8          DCS Compton                 278                     278   \n9              AN Cook                 263                     263   \n10            DL Amiss                262*                     262   \n11         TW Graveney                 258                     258   \n12           BA Stokes                 258                     258   \n13       KF Barrington                 256                     256   \n14             JE Root                 254                     254   \n15          WR Hammond                 251                     251   \n16           G Boycott                246*                     246   \n17             AN Cook                244*                     244   \n18           E Paynter                 243                     243   \n19             AN Cook                 243                     243   \n20          WR Hammond                 240                     240   \n21             AN Cook                235*                     235   \n22             IR Bell                 235                     235   \n23          WR Hammond                231*                     231   \n24          WR Hammond                 227                     227   \n25        KP Pietersen                 227                     227   \n26        KP Pietersen                 226                     226   \n27           IJL Trott                 226                     226   \n28             RWT Key                 221                     221   \n29           WJ Edrich                 219                     219   \n...                ...                 ...                     ...   \n94409       TJ Murtagh                  5*                       5   \n94410       TJ Murtagh                   5                       5   \n94411      A Balbirnie                   5                       5   \n94412         EC Joyce                   4                       4   \n94413      A Balbirnie                   4                       4   \n94414      JA McCollum                   4                       4   \n94415       AR McBrine                   4                       4   \n94416       KJ O'Brien                   4                       4   \n94417      SR Thompson                   4                       4   \n94418      SR Thompson                   3                       3   \n94419      SR Thompson                   3                       3   \n94420       AR McBrine                   3                       3   \n94421         MR Adair                   3                       3   \n94422  WTS Porterfield                   2                       2   \n94423       TJ Murtagh                   2                       2   \n94424  WTS Porterfield                   1                       1   \n94425       SW Poynter                   1                       1   \n94426      SR Thompson                   1                       1   \n94427        WB Rankin                  0*                       0   \n94428      A Balbirnie                   0                       0   \n94429       NJ O'Brien                   0                       0   \n94430          TE Kane                   0                       0   \n94431      A Balbirnie                   0                       0   \n94432       SW Poynter                   0                       0   \n94433  WTS Porterfield                   0                       0   \n94434        GC Wilson                   0                       0   \n94435      SR Thompson                   0                       0   \n94436      PR Stirling                   0                       0   \n94437        GC Wilson                   0                       0   \n94438       AR McBrine                   0                       0   \n\n      Innings Minutes Batted  Innings Batted Flag  Innings Not Out Flag  \\\n0                        797                  1.0                   0.0   \n1                        318                  1.0                   1.0   \n2                        628                  1.0                   0.0   \n3                        600                  1.0                   0.0   \n4                        532                  1.0                   1.0   \n5                        773                  1.0                   0.0   \n6                        419                  1.0                   0.0   \n7                        600                  1.0                   1.0   \n8                        287                  1.0                   0.0   \n9                        836                  1.0                   0.0   \n10                       570                  1.0                   1.0   \n11                       471                  1.0                   0.0   \n12                       338                  1.0                   0.0   \n13                       683                  1.0                   0.0   \n14                       614                  1.0                   0.0   \n15                       461                  1.0                   0.0   \n16                       573                  1.0                   1.0   \n17                       634                  1.0                   1.0   \n18                       334                  1.0                   0.0   \n19                       588                  1.0                   0.0   \n20                       367                  1.0                   0.0   \n21                       625                  1.0                   1.0   \n22                       497                  1.0                   0.0   \n23                       460                  1.0                   1.0   \n24                       301                  1.0                   0.0   \n25                       428                  1.0                   0.0   \n26                       432                  1.0                   0.0   \n27                       490                  1.0                   0.0   \n28                       426                  1.0                   0.0   \n29                       460                  1.0                   0.0   \n...                      ...                  ...                   ...   \n94409                      9                  1.0                   1.0   \n94410                     18                  1.0                   0.0   \n94411                     16                  1.0                   0.0   \n94412                      9                  1.0                   0.0   \n94413                      -                  1.0                   0.0   \n94414                      -                  1.0                   0.0   \n94415                      -                  1.0                   0.0   \n94416                     21                  1.0                   0.0   \n94417                     24                  1.0                   0.0   \n94418                     40                  1.0                   0.0   \n94419                      -                  1.0                   0.0   \n94420                      -                  1.0                   0.0   \n94421                     22                  1.0                   0.0   \n94422                     23                  1.0                   0.0   \n94423                     12                  1.0                   0.0   \n94424                     30                  1.0                   0.0   \n94425                      -                  1.0                   0.0   \n94426                      -                  1.0                   0.0   \n94427                      8                  1.0                   1.0   \n94428                     16                  1.0                   0.0   \n94429                     12                  1.0                   0.0   \n94430                      2                  1.0                   0.0   \n94431                      5                  1.0                   0.0   \n94432                      -                  1.0                   0.0   \n94433                      -                  1.0                   0.0   \n94434                      4                  1.0                   0.0   \n94435                     12                  1.0                   0.0   \n94436                      4                  1.0                   0.0   \n94437                      4                  1.0                   0.0   \n94438                     10                  1.0                   0.0   \n\n      Innings Balls Faced Innings Boundary Fours Innings Boundary Sixes  \\\n0                     847                     35                      0   \n1                       -                     34                     10   \n2                     485                     43                      3   \n3                     640                     28                      0   \n4                     450                     52                      5   \n5                     545                     33                      0   \n6                       -                     37                      0   \n7                       -                     25                      2   \n8                       -                     34                      1   \n9                     528                     18                      0   \n10                    563                     40                      1   \n11                      -                     30                      0   \n12                    198                     30                     11   \n13                    624                     26                      0   \n14                    406                     27                      0   \n15                    605                     30                      0   \n16                    555                     30                      1   \n17                    409                     27                      0   \n18                      -                     24                      0   \n19                    407                     33                      0   \n20                    394                     32                      0   \n21                    428                     26                      0   \n22                    364                     23                      2   \n23                    579                     27                      0   \n24                      -                      -                      0   \n25                    308                     33                      1   \n26                    262                     24                      2   \n27                    349                     20                      0   \n28                    288                     31                      0   \n29                      -                     25                      0   \n...                   ...                    ...                    ...   \n94409                   3                      1                      0   \n94410                   7                      1                      0   \n94411                  10                      1                      0   \n94412                   4                      0                      0   \n94413                   7                      1                      0   \n94414                   9                      1                      0   \n94415                  13                      1                      0   \n94416                   8                      1                      0   \n94417                   9                      1                      0   \n94418                  21                      0                      0   \n94419                  31                      0                      0   \n94420                  26                      0                      0   \n94421                   9                      0                      0   \n94422                  19                      0                      0   \n94423                   5                      0                      0   \n94424                  20                      0                      0   \n94425                   9                      0                      0   \n94426                  12                      0                      0   \n94427                   5                      0                      0   \n94428                   8                      0                      0   \n94429                  10                      0                      0   \n94430                   2                      0                      0   \n94431                   4                      0                      0   \n94432                   2                      0                      0   \n94433                   2                      0                      0   \n94434                   4                      0                      0   \n94435                   5                      0                      0   \n94436                   2                      0                      0   \n94437                   2                      0                      0   \n94438                   2                      0                      0   \n\n      Innings Batting Strike Rate Innings Number  50's  100's  \\\n0                           42.97              1   0.0    1.0   \n1                               -              2   0.0    1.0   \n2                           68.65              1   0.0    1.0   \n3                           50.78              1   0.0    1.0   \n4                           68.88              1   0.0    1.0   \n5                           53.94              2   0.0    1.0   \n6                               -              2   0.0    1.0   \n7                               -              3   0.0    1.0   \n8                               -              2   0.0    1.0   \n9                           49.81              2   0.0    1.0   \n10                          46.53              3   0.0    1.0   \n11                              -              1   0.0    1.0   \n12                         130.30              1   0.0    1.0   \n13                          41.02              2   0.0    1.0   \n14                          62.56              1   0.0    1.0   \n15                          41.48              2   0.0    1.0   \n16                          44.32              1   0.0    1.0   \n17                          59.65              2   0.0    1.0   \n18                              -              1   0.0    1.0   \n19                          59.70              1   0.0    1.0   \n20                          60.91              1   0.0    1.0   \n21                          54.90              3   0.0    1.0   \n22                          64.56              1   0.0    1.0   \n23                          39.89              1   0.0    1.0   \n24                              -              1   0.0    1.0   \n25                          73.70              2   0.0    1.0   \n26                          86.25              1   0.0    1.0   \n27                          64.75              1   0.0    1.0   \n28                          76.73              1   0.0    1.0   \n29                              -              4   0.0    1.0   \n...                           ...            ...   ...    ...   \n94409                      166.66              3   0.0    0.0   \n94410                       71.42              2   0.0    0.0   \n94411                       50.00              4   0.0    0.0   \n94412                      100.00              2   0.0    0.0   \n94413                       57.14              1   0.0    0.0   \n94414                       44.44              1   0.0    0.0   \n94415                       30.76              3   0.0    0.0   \n94416                       50.00              4   0.0    0.0   \n94417                       44.44              4   0.0    0.0   \n94418                       14.28              2   0.0    0.0   \n94419                        9.67              1   0.0    0.0   \n94420                       11.53              1   0.0    0.0   \n94421                       33.33              2   0.0    0.0   \n94422                       10.52              4   0.0    0.0   \n94423                       40.00              4   0.0    0.0   \n94424                        5.00              2   0.0    0.0   \n94425                       11.11              3   0.0    0.0   \n94426                        8.33              3   0.0    0.0   \n94427                        0.00              4   0.0    0.0   \n94428                        0.00              2   0.0    0.0   \n94429                        0.00              2   0.0    0.0   \n94430                        0.00              2   0.0    0.0   \n94431                        0.00              3   0.0    0.0   \n94432                        0.00              1   0.0    0.0   \n94433                        0.00              3   0.0    0.0   \n94434                        0.00              2   0.0    0.0   \n94435                        0.00              2   0.0    0.0   \n94436                        0.00              4   0.0    0.0   \n94437                        0.00              4   0.0    0.0   \n94438                        0.00              4   0.0    0.0   \n\n      Innings Runs Scored Buckets  \n0                            200+  \n1                            200+  \n2                            200+  \n3                            200+  \n4                            200+  \n5                            200+  \n6                            200+  \n7                            200+  \n8                            200+  \n9                            200+  \n10                           200+  \n11                           200+  \n12                           200+  \n13                           200+  \n14                           200+  \n15                           200+  \n16                           200+  \n17                           200+  \n18                           200+  \n19                           200+  \n20                           200+  \n21                           200+  \n22                           200+  \n23                           200+  \n24                           200+  \n25                           200+  \n26                           200+  \n27                           200+  \n28                           200+  \n29                           200+  \n...                           ...  \n94409                        0-49  \n94410                        0-49  \n94411                        0-49  \n94412                        0-49  \n94413                        0-49  \n94414                        0-49  \n94415                        0-49  \n94416                        0-49  \n94417                        0-49  \n94418                        0-49  \n94419                        0-49  \n94420                        0-49  \n94421                        0-49  \n94422                        0-49  \n94423                        0-49  \n94424                        0-49  \n94425                        0-49  \n94426                        0-49  \n94427                        0-49  \n94428                        0-49  \n94429                        0-49  \n94430                        0-49  \n94431                        0-49  \n94432                        0-49  \n94433                        0-49  \n94434                        0-49  \n94435                        0-49  \n94436                        0-49  \n94437                        0-49  \n94438                        0-49  \n\n[84334 rows x 14 columns]"
          },
          "metadata": {}
        }
      ]
    },
    {
      "metadata": {},
      "cell_type": "markdown",
      "source": "# 100's\nPossible values:\n* 1: 99 < `Innings Runs Scored Num\n* 0: Not a century\n* NaN: For bowler rows\n\n**Use**: No. Computed field"
    },
    {
      "metadata": {},
      "cell_type": "markdown",
      "source": "# Innings Runs Scored Buckets\nPossible values:\n* 200+\n* 150-199\n* 100-149\n* 50-99\n* 0-49\n"
    },
    {
      "metadata": {
        "trusted": true
      },
      "cell_type": "code",
      "source": "df['Innings Runs Scored Buckets'].unique()",
      "execution_count": 39,
      "outputs": [
        {
          "output_type": "execute_result",
          "execution_count": 39,
          "data": {
            "text/plain": "array(['200+', '150-199', '100-149', '50-99', '0-49', '-', nan],\n      dtype=object)"
          },
          "metadata": {}
        }
      ]
    },
    {
      "metadata": {
        "trusted": true
      },
      "cell_type": "code",
      "source": "",
      "execution_count": null,
      "outputs": []
    }
  ],
  "metadata": {
    "kernelspec": {
      "name": "python36",
      "display_name": "Python 3.6",
      "language": "python"
    },
    "language_info": {
      "mimetype": "text/x-python",
      "nbconvert_exporter": "python",
      "name": "python",
      "pygments_lexer": "ipython3",
      "version": "3.6.6",
      "file_extension": ".py",
      "codemirror_mode": {
        "version": 3,
        "name": "ipython"
      }
    }
  },
  "nbformat": 4,
  "nbformat_minor": 2
}