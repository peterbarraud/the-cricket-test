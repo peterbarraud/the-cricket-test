{
  "cells": [
    {
      "metadata": {
        "trusted": true
      },
      "cell_type": "code",
      "source": "import pandas as pd\nimport numpy as np\ndf = pd.read_pickle('./data/batters.pkl')",
      "execution_count": 158,
      "outputs": []
    },
    {
      "metadata": {},
      "cell_type": "markdown",
      "source": "# get player name\nsimple function to get the player name as recorded\n\nJust pass a few chars.\n\nLike `Tend` shows up `['SR Tendulkar']`"
    },
    {
      "metadata": {
        "trusted": true
      },
      "cell_type": "code",
      "source": "def get_playername(contains):\n    print(df[df.playername.str.contains(contains)]['playername'].unique())\n    ",
      "execution_count": 159,
      "outputs": []
    },
    {
      "metadata": {
        "trusted": true
      },
      "cell_type": "code",
      "source": "get_playername('Tend')",
      "execution_count": 160,
      "outputs": [
        {
          "output_type": "stream",
          "text": "['SR Tendulkar']\n",
          "name": "stdout"
        }
      ]
    },
    {
      "metadata": {},
      "cell_type": "markdown",
      "source": "# very basic stats"
    },
    {
      "metadata": {
        "trusted": true
      },
      "cell_type": "code",
      "source": "def batter_stats(playername):\n    data = df[df.playername == playername].groupby('playername').agg({'runs':'sum',\n                                                                                                                    'innings': 'count',\n                                                                                                                    'notout': 'sum'})\n    data['avg'] = data.apply(lambda x: round(x.runs / (x.innings-x.notout), 2), axis=1)\n    print(data)",
      "execution_count": 161,
      "outputs": []
    },
    {
      "metadata": {
        "trusted": true
      },
      "cell_type": "code",
      "source": "def ninties_by_country(playername):\n    print(df[(df.playername == playername) & ((df.runs > 89) & (df.runs < 100))].groupby('opposition').agg({'playername': 'count'}))",
      "execution_count": 162,
      "outputs": []
    },
    {
      "metadata": {
        "trusted": true
      },
      "cell_type": "code",
      "source": "def ducks_by_country(playername):\n    print(df[(df.playername == playername) & (df.runs == 0) & (df.notout == False)].groupby('opposition').agg({'playername': 'count'}))",
      "execution_count": 163,
      "outputs": []
    },
    {
      "metadata": {
        "trusted": true
      },
      "cell_type": "code",
      "source": "def hundreds_by_country(playername):\n    print(df[(df.playername == playername) & (df.runs > 99)].groupby('opposition').agg({'playername': 'count'}))",
      "execution_count": 164,
      "outputs": []
    },
    {
      "metadata": {
        "trusted": true
      },
      "cell_type": "code",
      "source": "def away_hundreds_by_country(playername):\n    print(df[(df.playername == playername) & (df.runs > 99) & (df.homegame == False)].groupby('opposition').agg({'playername': 'count'}))",
      "execution_count": 172,
      "outputs": []
    },
    {
      "metadata": {
        "trusted": true
      },
      "cell_type": "code",
      "source": "away_hundreds_by_country('SR Tendulkar')",
      "execution_count": 186,
      "outputs": [
        {
          "output_type": "stream",
          "text": "              playername\nopposition              \nAustralia              6\nBangladesh             5\nEngland                4\nNew Zealand            2\nPakistan               1\nSouth Africa           5\nSri Lanka              5\nWest Indies            1\n",
          "name": "stdout"
        }
      ]
    },
    {
      "metadata": {
        "trusted": true
      },
      "cell_type": "code",
      "source": "home_100s = df[(df.playername == 'SR Tendulkar') & (df.runs > 99) & (df.homegame == True)].groupby('opposition').agg({'playername':'count'})",
      "execution_count": 180,
      "outputs": []
    },
    {
      "metadata": {
        "trusted": true
      },
      "cell_type": "code",
      "source": "away_100s = df[(df.playername == 'SR Tendulkar') & (df.runs > 99) & (df.homegame == False)].groupby('opposition').agg({'playername':'count'})",
      "execution_count": 181,
      "outputs": []
    },
    {
      "metadata": {
        "trusted": true
      },
      "cell_type": "code",
      "source": "df[df.playername == 'SR Tendulkar'].groupby('playername').agg({'date': ['min', 'max', 'count']})",
      "execution_count": 190,
      "outputs": [
        {
          "output_type": "execute_result",
          "execution_count": 190,
          "data": {
            "text/html": "<div>\n<style scoped>\n    .dataframe tbody tr th:only-of-type {\n        vertical-align: middle;\n    }\n\n    .dataframe tbody tr th {\n        vertical-align: top;\n    }\n\n    .dataframe thead tr th {\n        text-align: left;\n    }\n\n    .dataframe thead tr:last-of-type th {\n        text-align: right;\n    }\n</style>\n<table border=\"1\" class=\"dataframe\">\n  <thead>\n    <tr>\n      <th></th>\n      <th colspan=\"3\" halign=\"left\">date</th>\n    </tr>\n    <tr>\n      <th></th>\n      <th>min</th>\n      <th>max</th>\n      <th>count</th>\n    </tr>\n    <tr>\n      <th>playername</th>\n      <th></th>\n      <th></th>\n      <th></th>\n    </tr>\n  </thead>\n  <tbody>\n    <tr>\n      <th>SR Tendulkar</th>\n      <td>1989-11-15</td>\n      <td>2013-11-14</td>\n      <td>329</td>\n    </tr>\n  </tbody>\n</table>\n</div>",
            "text/plain": "                   date                 \n                    min        max count\nplayername                              \nSR Tendulkar 1989-11-15 2013-11-14   329"
          },
          "metadata": {}
        }
      ]
    },
    {
      "metadata": {
        "trusted": true
      },
      "cell_type": "code",
      "source": "",
      "execution_count": null,
      "outputs": []
    }
  ],
  "metadata": {
    "kernelspec": {
      "name": "python36",
      "display_name": "Python 3.6",
      "language": "python"
    },
    "language_info": {
      "mimetype": "text/x-python",
      "nbconvert_exporter": "python",
      "name": "python",
      "pygments_lexer": "ipython3",
      "version": "3.6.6",
      "file_extension": ".py",
      "codemirror_mode": {
        "version": 3,
        "name": "ipython"
      }
    }
  },
  "nbformat": 4,
  "nbformat_minor": 2
}