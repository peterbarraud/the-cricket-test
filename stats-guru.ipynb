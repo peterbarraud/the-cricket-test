{
  "cells": [
    {
      "metadata": {
        "trusted": true
      },
      "cell_type": "code",
      "source": "ls",
      "execution_count": 1,
      "outputs": [
        {
          "output_type": "stream",
          "text": "\u001b[0m\u001b[01;34mdata\u001b[0m/                                messing-around.ipynb\r\ngetting-started-batters.ipynb        stats-guru.ipynb\r\nload-player-test-cricket-data.ipynb  understanding-batters-data.ipynb\r\n",
          "name": "stdout"
        }
      ]
    },
    {
      "metadata": {
        "trusted": true
      },
      "cell_type": "code",
      "source": "ls data/status-guru/",
      "execution_count": 2,
      "outputs": [
        {
          "output_type": "stream",
          "text": "ipl_player_stats_2016_till_2019.csv\r\nodi_player_innings_stats_all_teams.csv\r\nodi_team_match_results_all_teams.csv\r\nt20i_player_innings_stats_all_teams.csv\r\nt20i_team_match_results_all_teams.csv\r\ntest_player_innings_stats_all_teams.csv\r\ntest_team_match_results_all_teams.csv\r\nwomen_odi_player_innings_stats_all_teams.csv\r\nwomen_t20i_player_innings_stats_all_teams.csv\r\nwomen_test_player_innings_stats_all_teams.csv\r\n",
          "name": "stdout"
        }
      ]
    },
    {
      "metadata": {
        "trusted": true
      },
      "cell_type": "code",
      "source": "!tail data/status-guru/test_player_innings_stats_all_teams.csv",
      "execution_count": 7,
      "outputs": [
        {
          "output_type": "stream",
          "text": "GC Wilson,,,,,,,,,,1,v England,Lord's,2019-07-24,Ireland,,,,DNB,0,,,,1,0,0,-,\r\r\nWTS Porterfield,,,,,,,,,,1,v England,Lord's,2019-07-24,Ireland,,,,DNB,0,,,,1,0,0,-,\r\r\nA Balbirnie,,,,,,,,,,1,v England,Lord's,2019-07-24,Ireland,,,,DNB,0,,,,1,0,0,-,\r\r\nPR Stirling,,,,,,,,,,1,v England,Lord's,2019-07-24,Ireland,,,,DNB,0,,,,1,0,0,-,\r\r\nJA McCollum,,,,,,,,,,3,v England,Lord's,2019-07-24,Ireland,,,,DNB,0,,,,1,0,0,-,\r\r\nKJ O'Brien,,,,,,,,,,3,v England,Lord's,2019-07-24,Ireland,,,,DNB,0,,,,1,0,0,-,\r\r\nGC Wilson,,,,,,,,,,3,v England,Lord's,2019-07-24,Ireland,,,,DNB,0,,,,1,0,0,-,\r\r\nWTS Porterfield,,,,,,,,,,3,v England,Lord's,2019-07-24,Ireland,,,,DNB,0,,,,1,0,0,-,\r\r\nA Balbirnie,,,,,,,,,,3,v England,Lord's,2019-07-24,Ireland,,,,DNB,0,,,,1,0,0,-,\r\r\nPR Stirling,,,,,,,,,,3,v England,Lord's,2019-07-24,Ireland,,,,DNB,0,,,,1,0,0,-,\r\r\n",
          "name": "stdout"
        }
      ]
    },
    {
      "metadata": {
        "trusted": true
      },
      "cell_type": "code",
      "source": "",
      "execution_count": null,
      "outputs": []
    }
  ],
  "metadata": {
    "kernelspec": {
      "name": "python36",
      "display_name": "Python 3.6",
      "language": "python"
    },
    "language_info": {
      "mimetype": "text/x-python",
      "nbconvert_exporter": "python",
      "name": "python",
      "pygments_lexer": "ipython3",
      "version": "3.6.6",
      "file_extension": ".py",
      "codemirror_mode": {
        "version": 3,
        "name": "ipython"
      }
    }
  },
  "nbformat": 4,
  "nbformat_minor": 2
}